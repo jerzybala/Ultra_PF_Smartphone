{
 "cells": [
  {
   "cell_type": "code",
   "execution_count": 6,
   "metadata": {},
   "outputs": [],
   "source": [
    "import os\n",
    "import pandas as pd\n",
    "import numpy as np\n",
    "from sklearn.metrics import (accuracy_score, f1_score, precision_score, \n",
    "                             recall_score, roc_auc_score, mean_squared_error, r2_score)\n",
    "from sklearn.model_selection import train_test_split\n",
    "import xgboost as xgb\n",
    "import math\n",
    "import shap\n",
    "from sklearn.metrics import mean_squared_error, r2_score, mean_absolute_error\n",
    "import matplotlib.pyplot as plt\n",
    "\n",
    "from  config_smartphone import smartphone_set1\n",
    "\n"
   ]
  },
  {
   "cell_type": "code",
   "execution_count": 3,
   "metadata": {},
   "outputs": [],
   "source": [
    "\n",
    "path1 ='/Users/jerzybala/Desktop/BrainBaseMHQ/MHQ_raw_Jan2023_to_Feb2024_processed.csv'\n",
    "\n",
    "df = pd.read_csv(path1, low_memory=False)"
   ]
  },
  {
   "cell_type": "code",
   "execution_count": 7,
   "metadata": {},
   "outputs": [],
   "source": [
    "df.columns.to_list()\n",
    "\n",
    "data_org = df[smartphone_set1]\n",
    "\n"
   ]
  },
  {
   "cell_type": "code",
   "execution_count": 12,
   "metadata": {},
   "outputs": [
    {
     "name": "stdout",
     "output_type": "stream",
     "text": [
      "Number of records where the specified columns are not empty: 46865\n"
     ]
    }
   ],
   "source": [
    "\n",
    "# Assuming 'data' is your DataFrame\n",
    "smartphone_columns = [\n",
    "    'Smartphone ownership',\n",
    "    'Friends/classmates smartphone ownership',\n",
    "    'Age of smartphone usage during school hours',\n",
    "    'Smartphone usage during class hours',\n",
    "    'Smartphone usage during break'\n",
    "]\n",
    "\n",
    "\n",
    "# Create a mask where True indicates rows where all specified columns are not empty\n",
    "mask = data_org[smartphone_columns].notna().all(axis=1)\n",
    "\n",
    "# Apply the mask to the original DataFrame to filter rows while keeping all columns\n",
    "smartphone_data = data_org[mask]\n",
    "\n",
    "# Get the number of such records\n",
    "number_of_records = len(smartphone_data)\n",
    "print(f\"Number of records where the specified columns are not empty: {number_of_records}\")\n",
    "\n"
   ]
  },
  {
   "cell_type": "code",
   "execution_count": 13,
   "metadata": {},
   "outputs": [
    {
     "data": {
      "text/plain": [
       "['Language',\n",
       " 'Start Date (UTC)',\n",
       " 'Submit Date (UTC)',\n",
       " 'Time to completion',\n",
       " 'Age',\n",
       " 'Biological Sex',\n",
       " 'Ethnicity',\n",
       " 'Country',\n",
       " 'State',\n",
       " 'Place of living',\n",
       " 'City',\n",
       " 'Education',\n",
       " 'Employment',\n",
       " 'Household Income',\n",
       " 'Frequency of getting a good nights sleep',\n",
       " 'Frequency of doing exercise',\n",
       " 'Processed food in diet',\n",
       " 'Fresh fruit/vegetable consumption',\n",
       " 'Sweet/sugary food or desserts consumption',\n",
       " 'Frequency of Socializing',\n",
       " 'Current Family Situation',\n",
       " 'Number of Children',\n",
       " 'Household Size',\n",
       " 'Number of Siblings when growing up',\n",
       " 'Number of Close Friends',\n",
       " 'Age of first social media account',\n",
       " 'Frequency of social media posting',\n",
       " 'Tablet ownership',\n",
       " 'Smartphone ownership',\n",
       " 'Friends/classmates smartphone ownership',\n",
       " 'Age of smartphone usage during school hours',\n",
       " 'Smartphone usage during class hours',\n",
       " 'Smartphone usage during break',\n",
       " 'Age of laptop usage required by school',\n",
       " 'Laptop usage for non-learning activities',\n",
       " 'MHQ_Sign',\n",
       " 'Sudden or premature death of a loved one',\n",
       " 'Divorce/separation  or family breakup',\n",
       " 'Extreme poverty leading to homelessness and/or hunger.',\n",
       " 'Forced family control over major life decisions (e.g. marriage)',\n",
       " 'Prolonged sexual abuse| or severe sexual assault.',\n",
       " 'Displacement from your home due to political| environmental or economic reasons',\n",
       " 'Loss of your job or livelihood leading to an inability to make ends meet.',\n",
       " 'Cyberbullying or online abuse',\n",
       " 'Threatening| coercive or controlling behavior by another person',\n",
       " 'Caring for a child or partner with a major chronic disability or illness',\n",
       " 'I did not experience any of the above',\n",
       " 'Involvement or close witness to a war',\n",
       " 'Life threatening or debilitating injury or illness.',\n",
       " 'Suffered a loss in a major fire| flood| earthquake| or natural disaster',\n",
       " 'None of the above AT',\n",
       " 'Type II Diabetes',\n",
       " 'Fibromyalgia',\n",
       " 'Liver disease/Cirrhosis',\n",
       " 'Hypertension',\n",
       " 'Irritable Bowel Syndrome',\n",
       " 'Heart disease',\n",
       " \"Inflammatory Bowel Disease / Crohn's disease\",\n",
       " 'Arthritis',\n",
       " 'Psoriasis',\n",
       " 'Asthma',\n",
       " 'Migraines',\n",
       " 'Traumatic Brain Injury',\n",
       " 'Osteoporosis',\n",
       " 'Sleep apnea',\n",
       " 'Hipotiroidismo',\n",
       " 'Neuropathy',\n",
       " 'Cancer',\n",
       " 'Chronic Obstructive Pulmonary Disease (COPD)',\n",
       " 'HIV /AIDS',\n",
       " 'Kidney Disease',\n",
       " 'Rheumatoid',\n",
       " 'Polycystic ovaries',\n",
       " 'Prefer not to say',\n",
       " 'Narcolepsy',\n",
       " 'Chronic fatigue syndrome',\n",
       " 'Back problem',\n",
       " 'Epilepsy',\n",
       " 'Multiple sclerosis',\n",
       " 'Escoliosis',\n",
       " 'Stroke',\n",
       " 'Herpes',\n",
       " 'Type 1 Diabetes',\n",
       " 'Sudden or premature death of a parent or sibling',\n",
       " 'Prolonged emotional or psychological abuse or neglect from parent/caregiver',\n",
       " 'Prolonged physical abuse| or severe physical assault CT',\n",
       " 'Physical violence in the home between family members',\n",
       " 'Prolonged or sustained bullying in person from peers',\n",
       " 'Parental Divorce or family breakup',\n",
       " 'Lived with a parent/caregiver who was an alcoholic or who regularly used street drugs',\n",
       " 'Threatening| coercive or controlling behavior by another person CT',\n",
       " 'I did not experience any of the above during my childhood',\n",
       " 'Suffered a loss in a major fire| flood| earthquake| or natural disaster CT',\n",
       " 'Displacement from your home due to political| environmental or economic reasons CT',\n",
       " 'Life threatening or debilitating injury or illness CT',\n",
       " 'Forced family control over major life decisions CT',\n",
       " 'None of the above CT',\n",
       " 'Tobacco products',\n",
       " 'Alcoholic beverages',\n",
       " 'Cannabis',\n",
       " 'Vaping products',\n",
       " 'Sedatives or Sleeping Pills',\n",
       " 'Amphetamine type stimulants (e.g. speed| diet pills| ecstasy| etc.)',\n",
       " 'Opioids',\n",
       " 'Melatonina',\n",
       " 'Cigarrillo',\n",
       " 'None of the above',\n",
       " 'Overall MHQ',\n",
       " 'MHQ_Sign']"
      ]
     },
     "execution_count": 13,
     "metadata": {},
     "output_type": "execute_result"
    }
   ],
   "source": [
    "smartphone_data.columns.to_list()\n"
   ]
  },
  {
   "cell_type": "code",
   "execution_count": null,
   "metadata": {},
   "outputs": [],
   "source": []
  },
  {
   "cell_type": "code",
   "execution_count": null,
   "metadata": {},
   "outputs": [],
   "source": []
  },
  {
   "cell_type": "code",
   "execution_count": null,
   "metadata": {},
   "outputs": [],
   "source": []
  }
 ],
 "metadata": {
  "kernelspec": {
   "display_name": "Python 3",
   "language": "python",
   "name": "python3"
  },
  "language_info": {
   "codemirror_mode": {
    "name": "ipython",
    "version": 3
   },
   "file_extension": ".py",
   "mimetype": "text/x-python",
   "name": "python",
   "nbconvert_exporter": "python",
   "pygments_lexer": "ipython3",
   "version": "3.9.13"
  }
 },
 "nbformat": 4,
 "nbformat_minor": 2
}
